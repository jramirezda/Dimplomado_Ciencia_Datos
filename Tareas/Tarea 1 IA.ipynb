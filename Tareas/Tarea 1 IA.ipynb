{
  "cells":[
    {
      "attachments":{},"cell_type":"markdown",
      "metadata":{"id":"Hz0u0BCPDIhU"},
      "source":[
        "# Funcion Vec"
      ]
    },
    {
      "attachments":{},"cell_type":"markdown",
      "metadata":{"id":"MwEUFc9L9m6x"},
      "source":[
        "## Jhon Alejandro Ramirez Daza.\n","\n","Soy estudiante de la carrera de estadística. He visto las asignaturas de programación en lenguajes estadísticos, bases de datos, sistemas de información y computación estadística, entre otros conocimientos. "
      ]
    },
    {
      "cell_type":"code",
      "execution_count":null,
      "metadata":{},
      "outputs":[],
      "source":[
        "# has una definicion de la funcion vec de algebra matricial escrita en markdown "
      ]
    },
    {
      "attachments":{},
      "cell_type":"markdown",
      "metadata":{"id":"04T-VDF49kJY"},
      "source":[
        "La funcion vec en algebra matrical es una funcion que toma una matriz $m*n$ de tal forma que nos devuelve un vector de columna de longitud $(m*n)*1$ 8"
      ]
    }
  ],
  "metadata":{"colab":{"authorship_tag":"ABX9TyP6kAxUEt7Zmhm2hfHei4M2","mount_file_id":"1FleW2l_OzeXTRCotZWg2KWAsqTUewJSc","provenance":[]}
              ,"kernelspec":{"display_name":"base","language":"python","name":"python3"},
              "language_info":{"codemirror_mode":{"name":"ipython","version":3},
                               "file_extension":".py","mimetype":"text/x-python","name":"python","nbconvert_exporter":"python","pygments_lexer":"ipython3","version":"3.9.13"},"vscode":{"interpreter":{"hash":"831053351c929801847d4e8643a295d6dcb98ca47191502507b134859e8454e9"}}},"nbformat":4,"nbformat_minor":0}
