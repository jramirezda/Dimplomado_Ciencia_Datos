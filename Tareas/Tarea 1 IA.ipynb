{
 "cells": [
  {
   "cell_type": "markdown",
   "metadata": {
    "id": "Hz0u0BCPDIhU"
   },
   "source": [
    "<img src=\"logo completo.png\" width=\"1200\" height=\"400\">"
   ]
  },
  {
   "cell_type": "markdown",
   "metadata": {
    "id": "MwEUFc9L9m6x"
   },
   "source": [
    "Soy estudiante de la carrera de estadística. He visto las asignaturas de programación en lenguajes estadísticos, bases de datos, sistemas de información y computación estadística, entre otros conocimientos.\n",
    "\n",
    "\n",
    "# Funcion Vec"
   ]
  },
  {
   "cell_type": "markdown",
   "metadata": {},
   "source": [
    "La función vec en álgebra matricial es una función que toma una matriz $m \\times n$ de tal forma que nos devuelve un vector de columna de longitud $(m \\times n) \\times 1$, donde vamos a denotar por $A$ a la matriz y $A_{j}$ a los $m$ vectores columna que la componen y la función vec se vería de la siguiente forma:\n",
    "\n",
    "$vec(A)=[A_{1};A_{2};\\ldots;A_{m}]$\n",
    "\n",
    "Donde $[A_{1};A_{2};\\ldots;A_{m}]$ hace referencia a la concatenación vertical de vectores."
   ]
  },
  {
   "cell_type": "markdown",
   "metadata": {},
   "source": [
    "Para usar la función $vec$ en python podemos usar la siguiente función en python usando la libreria numpy:"
   ]
  },
  {
   "cell_type": "code",
   "execution_count": 3,
   "metadata": {},
   "outputs": [],
   "source": [
    "import numpy as np\n",
    "\n",
    "def vec(matriz):\n",
    "    vector = matriz.flatten().reshape(-1,1)\n",
    "    return vector"
   ]
  },
  {
   "cell_type": "code",
   "execution_count": 4,
   "metadata": {},
   "outputs": [
    {
     "name": "stdout",
     "output_type": "stream",
     "text": [
      "[[1]\n",
      " [2]\n",
      " [3]\n",
      " [4]\n",
      " [5]\n",
      " [6]\n",
      " [7]\n",
      " [8]\n",
      " [9]]\n"
     ]
    }
   ],
   "source": [
    "matriz = np.array([[1,2,3],[4,5,6],[7,8,9]])\n",
    "vector = vec(matriz)\n",
    "print(vector)"
   ]
  }
 ],
 "metadata": {
  "colab": {
   "authorship_tag": "ABX9TyP6kAxUEt7Zmhm2hfHei4M2",
   "mount_file_id": "1FleW2l_OzeXTRCotZWg2KWAsqTUewJSc",
   "provenance": []
  },
  "kernelspec": {
   "display_name": "Python 3 (ipykernel)",
   "language": "python",
   "name": "python3"
  },
  "language_info": {
   "codemirror_mode": {
    "name": "ipython",
    "version": 3
   },
   "file_extension": ".py",
   "mimetype": "text/x-python",
   "name": "python",
   "nbconvert_exporter": "python",
   "pygments_lexer": "ipython3",
   "version": "3.9.13"
  },
  "vscode": {
   "interpreter": {
    "hash": "afb734500600fd355917ca529030176ea0ca205570884b88f2f6f7d791fd3fbe"
   }
  },
  "widgets": {
   "application/vnd.jupyter.widget-state+json": {
    "state": {},
    "version_major": 2,
    "version_minor": 0
   }
  }
 },
 "nbformat": 4,
 "nbformat_minor": 1
}
